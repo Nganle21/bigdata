{
 "cells": [
  {
   "cell_type": "code",
   "execution_count": 63,
   "metadata": {},
   "outputs": [
    {
     "name": "stdout",
     "output_type": "stream",
     "text": [
      "Requirement already satisfied: sympy in /Library/Frameworks/Python.framework/Versions/3.7/lib/python3.7/site-packages (1.10.1)\n",
      "Requirement already satisfied: mpmath>=0.19 in /Library/Frameworks/Python.framework/Versions/3.7/lib/python3.7/site-packages (from sympy) (1.2.1)\n"
     ]
    }
   ],
   "source": [
    "!pip3 install sympy"
   ]
  },
  {
   "cell_type": "code",
   "execution_count": 78,
   "metadata": {},
   "outputs": [],
   "source": [
    "# import symbolic capability to Python\n",
    "from sympy import *\n",
    "from sympy.abc import *\n",
    "from sympy.plotting import plot\n",
    "from IPython.display import display\n",
    "# print things all pretty\n",
    "init_printing()"
   ]
  },
  {
   "cell_type": "markdown",
   "metadata": {},
   "source": [
    "# Size of the problem: n "
   ]
  },
  {
   "cell_type": "code",
   "execution_count": 65,
   "metadata": {},
   "outputs": [],
   "source": [
    "n = symbols(\"n\", positive=True, real=True)"
   ]
  },
  {
   "cell_type": "markdown",
   "metadata": {},
   "source": [
    "# Different Functions f with different Time complexity"
   ]
  },
  {
   "cell_type": "code",
   "execution_count": 102,
   "metadata": {},
   "outputs": [],
   "source": [
    "f_constant = 20\n",
    "f_linear = 4 * n + 10\n",
    "f_linear2 = 10 * n +1\n",
    "f_quadratic = 1/4 * n**2 + 1/2*n +1 \n",
    "f_quadratic2 = 1/8 * n**2 "
   ]
  },
  {
   "cell_type": "markdown",
   "metadata": {},
   "source": [
    "# Definition of Order of Growth (O) (\"Big O\")\n",
    "\n",
    "Order of growth (O) is a set of functions whose asymptotic growth behavior is considered equivalent:\n",
    "\n",
    "Two functions f(n) and g(n) have the equivalent order of growth if $\\displaystyle \\lim_{n \\rightarrow \\infty} \\frac{f(n)}{g(n)} = c$ with $c > 0$ and $c < \\infty $.\n",
    "\n",
    "\n",
    "f(n) has a higher order of growth than g(n) if\n",
    "$\\displaystyle \\lim_{n \\rightarrow \\infty} \\frac{f(n)}{g(n)} = \\infty $.\n",
    "\n",
    "f(n) has a smaller order of growth than g(n) if $\\displaystyle \\lim_{n \\rightarrow \\infty} \\frac{f(n)}{g(n)} = 0 $.\n",
    "\n",
    "$f(n) \\in O(g(n))$ if $\\displaystyle \\lim_{n \\rightarrow \\infty} \\frac{f(n)}{g(n)} = c$ with $c < \\infty $."
   ]
  },
  {
   "cell_type": "markdown",
   "metadata": {},
   "source": [
    "# Test Order of Growth with the Sympy limit function"
   ]
  },
  {
   "cell_type": "code",
   "execution_count": 67,
   "metadata": {},
   "outputs": [
    {
     "data": {
      "image/png": "[encoded data removed]",
      "text/latex": [
       "$\\displaystyle 2$"
      ],
      "text/plain": [
       "2"
      ]
     },
     "execution_count": 67,
     "metadata": {},
     "output_type": "execute_result"
    }
   ],
   "source": [
    "limit(f_quadratic / f_quadratic2, n, oo)"
   ]
  },
  {
   "cell_type": "code",
   "execution_count": 68,
   "metadata": {},
   "outputs": [
    {
     "data": {
      "image/png": "[encoded data removed]",
      "text/latex": [
       "$\\displaystyle \\infty$"
      ],
      "text/plain": [
       "∞"
      ]
     },
     "execution_count": 68,
     "metadata": {},
     "output_type": "execute_result"
    }
   ],
   "source": [
    "limit(f_quadratic / f_linear, n, oo)"
   ]
  },
  {
   "cell_type": "code",
   "execution_count": 69,
   "metadata": {},
   "outputs": [
    {
     "data": {
      "image/png": "[encoded data removed]",
      "text/latex": [
       "$\\displaystyle 0$"
      ],
      "text/plain": [
       "0"
      ]
     },
     "execution_count": 69,
     "metadata": {},
     "output_type": "execute_result"
    }
   ],
   "source": [
    "limit( f_linear2 / f_quadratic2, n, oo)"
   ]
  },
  {
   "cell_type": "markdown",
   "metadata": {},
   "source": [
    "# Plotting Time Complexity"
   ]
  },
  {
   "cell_type": "code",
   "execution_count": 70,
   "metadata": {},
   "outputs": [
    {
     "data": {
      "image/png": "[encoded data removed]",
      "text/plain": [
       "<Figure size 432x288 with 1 Axes>"
      ]
     },
     "metadata": {
      "needs_background": "light"
     },
     "output_type": "display_data"
    }
   ],
   "source": [
    "expr_range = (n,0,30)\n",
    "p = plot(\n",
    "    f_constant,\n",
    "    f_linear,\n",
    "    f_quadratic,\n",
    "    expr_range,\n",
    "    show = False,\n",
    "    legend = True\n",
    ");\n",
    "\n",
    "p[0].line_color = 'g'\n",
    "p[1].line_color = 'b'\n",
    "p[2].line_color = 'r'\n",
    "\n",
    "\n",
    "\n",
    "p[0].label = 'constant'\n",
    "p[1].label = 'linear'\n",
    "p[2].label = 'quadratic'\n",
    "\n",
    "p.show()"
   ]
  },
  {
   "cell_type": "markdown",
   "metadata": {},
   "source": [
    "# Crossover point"
   ]
  },
  {
   "cell_type": "code",
   "execution_count": 71,
   "metadata": {},
   "outputs": [
    {
     "data": {
      "image/png": "[encoded data removed]",
      "text/latex": [
       "$\\displaystyle 0.25 n^{2} + 0.5 n + 1 = 4 n + 10$"
      ],
      "text/plain": [
       "      2                       \n",
       "0.25⋅n  + 0.5⋅n + 1 = 4⋅n + 10"
      ]
     },
     "execution_count": 71,
     "metadata": {},
     "output_type": "execute_result"
    }
   ],
   "source": [
    "e1 = Eq(f_quadratic, f_linear)\n",
    "e1"
   ]
  },
  {
   "cell_type": "code",
   "execution_count": 72,
   "metadata": {},
   "outputs": [
    {
     "data": {
      "image/png": "[encoded data removed]",
      "text/latex": [
       "$\\displaystyle \\left[ 16.2195444572929\\right]$"
      ],
      "text/plain": [
       "[16.2195444572929]"
      ]
     },
     "execution_count": 72,
     "metadata": {},
     "output_type": "execute_result"
    }
   ],
   "source": [
    "solve(e1, n)"
   ]
  },
  {
   "cell_type": "code",
   "execution_count": 73,
   "metadata": {},
   "outputs": [
    {
     "data": {
      "image/png": "[encoded data removed]",
      "text/latex": [
       "$\\displaystyle 16.2195444572929$"
      ],
      "text/plain": [
       "16.2195444572929"
      ]
     },
     "execution_count": 73,
     "metadata": {},
     "output_type": "execute_result"
    }
   ],
   "source": [
    "solve(e1, n)[0].evalf()"
   ]
  },
  {
   "cell_type": "markdown",
   "metadata": {},
   "source": [
    "# Todo"
   ]
  },
  {
   "cell_type": "code",
   "execution_count": 74,
   "metadata": {
    "collapsed": true,
    "jupyter": {
     "outputs_hidden": true
    }
   },
   "outputs": [],
   "source": [
    "# TODO: Define \n",
    "# - a logarithmic function\n",
    "# - a log-linear (n log n) function\n",
    "# - a cubic function\n",
    "# - an exponential function\n",
    "# - a factorial function"
   ]
  },
  {
   "cell_type": "code",
   "execution_count": 83,
   "metadata": {},
   "outputs": [],
   "source": [
    "\n",
    "f_log = ln(n)\n",
    "f_log_linear = n* ln(n)\n",
    "f_cubic = 1/10*n**3 + 1/8 * n**2 + 1/4*n +1 \n",
    "f_ex = 2**n\n",
    "f_factorial = factorial(n)\n"
   ]
  },
  {
   "cell_type": "code",
   "execution_count": 95,
   "metadata": {
    "collapsed": true,
    "jupyter": {
     "outputs_hidden": true
    }
   },
   "outputs": [
    {
     "data": {
      "image/png": "[encoded data removed]",
      "text/plain": [
       "<Figure size 432x288 with 1 Axes>"
      ]
     },
     "metadata": {
      "needs_background": "light"
     },
     "output_type": "display_data"
    }
   ],
   "source": [
    "# TODO create multiple plots with different combinations of functions\n",
    "expr_range = (n,1,5)\n",
    "p = plot(\n",
    "    f_log,\n",
    "    f_log_linear,\n",
    "    f_cubic,\n",
    "    f_ex,\n",
    "    f_factorial,\n",
    "    expr_range,\n",
    "    show = False,\n",
    "    legend = True,\n",
    ");\n",
    "\n",
    "p[0].line_color = 'g'\n",
    "p[1].line_color = 'b'\n",
    "p[2].line_color = 'r'\n",
    "p[3].line_color = 'y'\n",
    "p[4].line_color = 'c'\n",
    "\n",
    "\n",
    "p[0].label = 'log'\n",
    "p[1].label = 'log_linear'\n",
    "p[2].label = 'cubic'\n",
    "p[3].label = 'exponential'\n",
    "p[4].label = 'factorial'\n",
    "\n",
    "p.show()"
   ]
  },
  {
   "cell_type": "code",
   "execution_count": 104,
   "metadata": {
    "collapsed": true,
    "jupyter": {
     "outputs_hidden": true
    }
   },
   "outputs": [
    {
     "data": {
      "image/png": "[encoded data removed]",
      "text/plain": [
       "<Figure size 432x288 with 1 Axes>"
      ]
     },
     "metadata": {
      "needs_background": "light"
     },
     "output_type": "display_data"
    }
   ],
   "source": [
    "# TODO create a log-log plot with your factorial, exponential, quadratic, log-linear, and linear function\n",
    "expr_range = (n,1,5)\n",
    "p = plot(\n",
    "    f_linear,\n",
    "    f_log_linear,\n",
    "    f_quadratic,\n",
    "    f_ex,\n",
    "    f_factorial,\n",
    "    expr_range,\n",
    "    show = False,\n",
    "    legend = True,\n",
    "    xscale='log',\n",
    "    yscale='log'\n",
    ");\n",
    "\n",
    "p[0].line_color = 'g'\n",
    "p[1].line_color = 'b'\n",
    "p[2].line_color = 'r'\n",
    "p[3].line_color = 'y'\n",
    "p[4].line_color = 'c'\n",
    "\n",
    "\n",
    "p[0].label = 'linear'\n",
    "p[1].label = 'log_linear'\n",
    "p[2].label = 'quaratic'\n",
    "p[3].label = 'exponential'\n",
    "p[4].label = 'factorial'\n",
    "\n",
    "p.show()\n"
   ]
  },
  {
   "cell_type": "code",
   "execution_count": 133,
   "metadata": {
    "collapsed": true,
    "jupyter": {
     "outputs_hidden": true
    }
   },
   "outputs": [
    {
     "data": {
      "image/png": "[encoded data removed]",
      "text/latex": [
       "$\\displaystyle \\left[ -1.07518381359193, \\  0.0, \\  2.32518381359193\\right]$"
      ],
      "text/plain": [
       "[-1.07518381359193, 0.0, 2.32518381359193]"
      ]
     },
     "execution_count": 133,
     "metadata": {},
     "output_type": "execute_result"
    }
   ],
   "source": [
    "# TODO Calculate one crossover point for two functions\n",
    "e1 = Eq(f_quadratic, f_cubic)\n",
    "solve(e1, n)\n",
    " "
   ]
  },
  {
   "cell_type": "code",
   "execution_count": null,
   "metadata": {},
   "outputs": [],
   "source": [
    "# TODO Bring your functions in order in terms of Big-O-Notation, also compare them to O(n), O(n log n), O(n**2), and O(2**n)"
   ]
  },
  {
   "cell_type": "markdown",
   "metadata": {},
   "source": [
    "f_log is less complex than O(n), O(n log n), O(n**2), and O(2**n)\n",
    "f_log_linear as complex as O (n log n), more complex than O(n) and less complex than O(n**2), and O(2**n)\n",
    "f_cubic is more complex than O(n), O(n log n), O(n**2) and less complex than and O(2**n)\n",
    "f_ex is as complex as O(2**n) and more complex than the rest\n",
    "f_factorial is the most complex"
   ]
  }
 ],
 "metadata": {
  "kernelspec": {
   "display_name": "Python 3 (ipykernel)",
   "language": "python",
   "name": "python3"
  },
  "language_info": {
   "codemirror_mode": {
    "name": "ipython",
    "version": 3
   },
   "file_extension": ".py",
   "mimetype": "text/x-python",
   "name": "python",
   "nbconvert_exporter": "python",
   "pygments_lexer": "ipython3",
   "version": "3.7.9"
  },
  "varInspector": {
   "cols": {
    "lenName": 16,
    "lenType": 16,
    "lenVar": 40
   },
   "kernels_config": {
    "python": {
     "delete_cmd_postfix": "",
     "delete_cmd_prefix": "del ",
     "library": "var_list.py",
     "varRefreshCmd": "print(var_dic_list())"
    },
    "r": {
     "delete_cmd_postfix": ") ",
     "delete_cmd_prefix": "rm(",
     "library": "var_list.r",
     "varRefreshCmd": "cat(var_dic_list()) "
    }
   },
   "types_to_exclude": [
    "module",
    "function",
    "builtin_function_or_method",
    "instance",
    "_Feature"
   ],
   "window_display": false
  }
 },
 "nbformat": 4,
 "nbformat_minor": 4
}
